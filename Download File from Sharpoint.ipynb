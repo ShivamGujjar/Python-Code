{
 "cells": [
  {
   "cell_type": "code",
   "execution_count": 1,
   "metadata": {},
   "outputs": [],
   "source": [
    "import requests\n",
    "from requests_ntlm import HttpNtlmAuth\n",
    "df=requests.get(\"https://sunrise.us.kioxia.com/Department/BU/Strategic_Marketing/BusinessIntelligence/BITeam/Shortage%20supply%20Tool/Documents/Project%20framework.xlsx\", auth=HttpNtlmAuth('US\\\\rathos','fierce78@llday'))\n",
    "localpath=\"Project framework.xlsx\"\n",
    "with open(localpath,\"wb\") as localfile:\n",
    "    localfile.write(df.content)\n",
    "    "
   ]
  }
 ],
 "metadata": {
  "kernelspec": {
   "display_name": "Python 3",
   "language": "python",
   "name": "python3"
  },
  "language_info": {
   "codemirror_mode": {
    "name": "ipython",
    "version": 3
   },
   "file_extension": ".py",
   "mimetype": "text/x-python",
   "name": "python",
   "nbconvert_exporter": "python",
   "pygments_lexer": "ipython3",
   "version": "3.7.3"
  }
 },
 "nbformat": 4,
 "nbformat_minor": 2
}
