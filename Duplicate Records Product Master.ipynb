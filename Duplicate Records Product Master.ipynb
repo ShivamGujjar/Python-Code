{
 "cells": [
  {
   "cell_type": "code",
   "execution_count": 1,
   "metadata": {},
   "outputs": [],
   "source": [
    "import pandas as pd\n",
    "product=pd.read_excel(\"D:\\py\\productMaster.xlsx\")\n",
    "# product=product[['PART_NUMBER','W_CODE']]"
   ]
  },
  {
   "cell_type": "code",
   "execution_count": 2,
   "metadata": {},
   "outputs": [],
   "source": [
    "# Drop Duplicate records from where key PART_NUMBER and W_CODE\n",
    "product.drop_duplicates(['PART_NUMBER','W_CODE'],inplace=True)"
   ]
  },
  {
   "cell_type": "code",
   "execution_count": 3,
   "metadata": {},
   "outputs": [
    {
     "data": {
      "text/plain": [
       "(146, 34)"
      ]
     },
     "execution_count": 3,
     "metadata": {},
     "output_type": "execute_result"
    }
   ],
   "source": [
    "# Find Duplicate records bassed on only joining key\n",
    "product[product.duplicated('PART_NUMBER',keep=False)].shape"
   ]
  },
  {
   "cell_type": "code",
   "execution_count": 4,
   "metadata": {},
   "outputs": [],
   "source": [
    "Dup=product[product.duplicated('PART_NUMBER',keep=False)]\n",
    "dup=list(Dup['PART_NUMBER'].unique())"
   ]
  },
  {
   "cell_type": "code",
   "execution_count": 5,
   "metadata": {},
   "outputs": [],
   "source": [
    "# product 1 contain only that unqique records or that records not hold duplicate value\n",
    "product1=product[~product.PART_NUMBER.isin(dup)]\n",
    "product2=Dup[Dup['W_CODE']!='-']"
   ]
  },
  {
   "cell_type": "code",
   "execution_count": 6,
   "metadata": {},
   "outputs": [
    {
     "data": {
      "text/plain": [
       "(74, 34)"
      ]
     },
     "execution_count": 6,
     "metadata": {},
     "output_type": "execute_result"
    }
   ],
   "source": [
    "product2.shape"
   ]
  },
  {
   "cell_type": "code",
   "execution_count": 7,
   "metadata": {},
   "outputs": [
    {
     "data": {
      "text/plain": [
       "(5487, 34)"
      ]
     },
     "execution_count": 7,
     "metadata": {},
     "output_type": "execute_result"
    }
   ],
   "source": [
    "product3=pd.concat([product1, product2])\n",
    "product3.shape"
   ]
  },
  {
   "cell_type": "code",
   "execution_count": 8,
   "metadata": {},
   "outputs": [],
   "source": [
    "Pro=product3[product3.duplicated('PART_NUMBER',keep=False)]"
   ]
  },
  {
   "cell_type": "code",
   "execution_count": 9,
   "metadata": {},
   "outputs": [],
   "source": [
    "# Pro.to_excel(\"PartNumberSameMutipleWCode.xlsx\")"
   ]
  },
  {
   "cell_type": "code",
   "execution_count": 10,
   "metadata": {},
   "outputs": [
    {
     "data": {
      "text/html": [
       "<div>\n",
       "<style scoped>\n",
       "    .dataframe tbody tr th:only-of-type {\n",
       "        vertical-align: middle;\n",
       "    }\n",
       "\n",
       "    .dataframe tbody tr th {\n",
       "        vertical-align: top;\n",
       "    }\n",
       "\n",
       "    .dataframe thead th {\n",
       "        text-align: right;\n",
       "    }\n",
       "</style>\n",
       "<table border=\"1\" class=\"dataframe\">\n",
       "  <thead>\n",
       "    <tr style=\"text-align: right;\">\n",
       "      <th></th>\n",
       "      <th>SSBU</th>\n",
       "      <th>ITEM_NUMBER</th>\n",
       "      <th>CUSTOMER</th>\n",
       "      <th>PRODUCT_NAME</th>\n",
       "      <th>INTERFACE</th>\n",
       "      <th>ENDURANCE</th>\n",
       "      <th>USER_CAPACITY</th>\n",
       "      <th>FORM_FACTOR</th>\n",
       "      <th>SECURITY</th>\n",
       "      <th>NAND</th>\n",
       "      <th>...</th>\n",
       "      <th>DIE_STACK2_COUNT</th>\n",
       "      <th>DRAM1_CNT</th>\n",
       "      <th>DRAM2_NAME</th>\n",
       "      <th>DRAM2_CNT</th>\n",
       "      <th>PWB</th>\n",
       "      <th>PACKAGE_SIZE</th>\n",
       "      <th>DESCRIPTION</th>\n",
       "      <th>NAND_GRADE</th>\n",
       "      <th>CONTROLLER_TYPE</th>\n",
       "      <th>W_CODE</th>\n",
       "    </tr>\n",
       "  </thead>\n",
       "  <tbody>\n",
       "    <tr>\n",
       "      <th>14618</th>\n",
       "      <td>X121</td>\n",
       "      <td>KHK6UVSE1T920P0DET</td>\n",
       "      <td>????????????</td>\n",
       "      <td>HK6V</td>\n",
       "      <td>SATA</td>\n",
       "      <td>3</td>\n",
       "      <td>1920</td>\n",
       "      <td>2.5\"</td>\n",
       "      <td>SED</td>\n",
       "      <td>BiCS3</td>\n",
       "      <td>...</td>\n",
       "      <td>NaN</td>\n",
       "      <td>4</td>\n",
       "      <td>-</td>\n",
       "      <td>-</td>\n",
       "      <td>Double</td>\n",
       "      <td>12x18x1.35t 132</td>\n",
       "      <td>HK6V - SATA - 3DWPD - 1920GB - SED - 2.5\"</td>\n",
       "      <td>eTLC</td>\n",
       "      <td>-</td>\n",
       "      <td>HK6_15</td>\n",
       "    </tr>\n",
       "    <tr>\n",
       "      <th>14627</th>\n",
       "      <td>X121</td>\n",
       "      <td>KHK6UVSE1T92AP0LDA</td>\n",
       "      <td>Dell</td>\n",
       "      <td>HK6V</td>\n",
       "      <td>SATA</td>\n",
       "      <td>3</td>\n",
       "      <td>1920</td>\n",
       "      <td>2.5\"</td>\n",
       "      <td>SED</td>\n",
       "      <td>BiCS3</td>\n",
       "      <td>...</td>\n",
       "      <td>4.0</td>\n",
       "      <td>4</td>\n",
       "      <td>-</td>\n",
       "      <td>-</td>\n",
       "      <td>Double</td>\n",
       "      <td>12x18x1.35t 132</td>\n",
       "      <td>HK6V - SATA - 3DWPD - 1920GB - SED - 2.5\"</td>\n",
       "      <td>eTLC</td>\n",
       "      <td>-</td>\n",
       "      <td>HK6_16</td>\n",
       "    </tr>\n",
       "    <tr>\n",
       "      <th>14902</th>\n",
       "      <td>X121</td>\n",
       "      <td>KHK6YVSE1T920J0DET</td>\n",
       "      <td>????????????</td>\n",
       "      <td>HK6R</td>\n",
       "      <td>SATA</td>\n",
       "      <td>3</td>\n",
       "      <td>1920</td>\n",
       "      <td>2.5\"</td>\n",
       "      <td>SIE</td>\n",
       "      <td>BiCS3</td>\n",
       "      <td>...</td>\n",
       "      <td>NaN</td>\n",
       "      <td>4</td>\n",
       "      <td>-</td>\n",
       "      <td>-</td>\n",
       "      <td>Double</td>\n",
       "      <td>12x18x1.35t 132</td>\n",
       "      <td>HK6R - SATA - 3DWPD - 1920GB - SIE - 2.5\"</td>\n",
       "      <td>eTLC</td>\n",
       "      <td>-</td>\n",
       "      <td>HK6_15</td>\n",
       "    </tr>\n",
       "    <tr>\n",
       "      <th>14915</th>\n",
       "      <td>X121</td>\n",
       "      <td>KHK6YVSE1T92APZLDA</td>\n",
       "      <td>Dell</td>\n",
       "      <td>HK6V</td>\n",
       "      <td>SATA</td>\n",
       "      <td>3</td>\n",
       "      <td>1920</td>\n",
       "      <td>2.5\"</td>\n",
       "      <td>SIE</td>\n",
       "      <td>BiCS3</td>\n",
       "      <td>...</td>\n",
       "      <td>4.0</td>\n",
       "      <td>4</td>\n",
       "      <td>-</td>\n",
       "      <td>-</td>\n",
       "      <td>Double</td>\n",
       "      <td>12x18x1.35t 132</td>\n",
       "      <td>HK6V - SATA - 3DWPD - 1920GB - SIE - 2.5\"</td>\n",
       "      <td>eTLC</td>\n",
       "      <td>-</td>\n",
       "      <td>HK6_16</td>\n",
       "    </tr>\n",
       "  </tbody>\n",
       "</table>\n",
       "<p>4 rows × 34 columns</p>\n",
       "</div>"
      ],
      "text/plain": [
       "       SSBU         ITEM_NUMBER      CUSTOMER PRODUCT_NAME INTERFACE  \\\n",
       "14618  X121  KHK6UVSE1T920P0DET  ????????????         HK6V      SATA   \n",
       "14627  X121  KHK6UVSE1T92AP0LDA          Dell         HK6V      SATA   \n",
       "14902  X121  KHK6YVSE1T920J0DET  ????????????         HK6R      SATA   \n",
       "14915  X121  KHK6YVSE1T92APZLDA          Dell         HK6V      SATA   \n",
       "\n",
       "      ENDURANCE  USER_CAPACITY FORM_FACTOR SECURITY   NAND  ...  \\\n",
       "14618         3           1920        2.5\"      SED  BiCS3  ...   \n",
       "14627         3           1920        2.5\"      SED  BiCS3  ...   \n",
       "14902         3           1920        2.5\"      SIE  BiCS3  ...   \n",
       "14915         3           1920        2.5\"      SIE  BiCS3  ...   \n",
       "\n",
       "      DIE_STACK2_COUNT DRAM1_CNT DRAM2_NAME DRAM2_CNT     PWB  \\\n",
       "14618              NaN         4          -         -  Double   \n",
       "14627              4.0         4          -         -  Double   \n",
       "14902              NaN         4          -         -  Double   \n",
       "14915              4.0         4          -         -  Double   \n",
       "\n",
       "          PACKAGE_SIZE                                DESCRIPTION NAND_GRADE  \\\n",
       "14618  12x18x1.35t 132  HK6V - SATA - 3DWPD - 1920GB - SED - 2.5\"       eTLC   \n",
       "14627  12x18x1.35t 132  HK6V - SATA - 3DWPD - 1920GB - SED - 2.5\"       eTLC   \n",
       "14902  12x18x1.35t 132  HK6R - SATA - 3DWPD - 1920GB - SIE - 2.5\"       eTLC   \n",
       "14915  12x18x1.35t 132  HK6V - SATA - 3DWPD - 1920GB - SIE - 2.5\"       eTLC   \n",
       "\n",
       "      CONTROLLER_TYPE  W_CODE  \n",
       "14618               -  HK6_15  \n",
       "14627               -  HK6_16  \n",
       "14902               -  HK6_15  \n",
       "14915               -  HK6_16  \n",
       "\n",
       "[4 rows x 34 columns]"
      ]
     },
     "execution_count": 10,
     "metadata": {},
     "output_type": "execute_result"
    }
   ],
   "source": [
    "Pro"
   ]
  }
 ],
 "metadata": {
  "kernelspec": {
   "display_name": "Python 3",
   "language": "python",
   "name": "python3"
  },
  "language_info": {
   "codemirror_mode": {
    "name": "ipython",
    "version": 3
   },
   "file_extension": ".py",
   "mimetype": "text/x-python",
   "name": "python",
   "nbconvert_exporter": "python",
   "pygments_lexer": "ipython3",
   "version": "3.7.3"
  }
 },
 "nbformat": 4,
 "nbformat_minor": 2
}
